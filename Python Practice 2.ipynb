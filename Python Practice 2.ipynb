{
 "cells": [
  {
   "cell_type": "code",
   "execution_count": 1,
   "metadata": {},
   "outputs": [],
   "source": [
    "st = 'Print only the words that start with s in this sentence'"
   ]
  },
  {
   "cell_type": "code",
   "execution_count": 2,
   "metadata": {},
   "outputs": [],
   "source": [
    "split = st.split()"
   ]
  },
  {
   "cell_type": "code",
   "execution_count": 3,
   "metadata": {},
   "outputs": [
    {
     "data": {
      "text/plain": [
       "['Print',\n",
       " 'only',\n",
       " 'the',\n",
       " 'words',\n",
       " 'that',\n",
       " 'start',\n",
       " 'with',\n",
       " 's',\n",
       " 'in',\n",
       " 'this',\n",
       " 'sentence']"
      ]
     },
     "execution_count": 3,
     "metadata": {},
     "output_type": "execute_result"
    }
   ],
   "source": [
    "split"
   ]
  },
  {
   "cell_type": "code",
   "execution_count": 4,
   "metadata": {},
   "outputs": [
    {
     "name": "stdout",
     "output_type": "stream",
     "text": [
      "start\n",
      "s\n",
      "sentence\n"
     ]
    }
   ],
   "source": [
    "for sLetter in split:\n",
    "    if sLetter[0] == 's':\n",
    "        print(sLetter)"
   ]
  },
  {
   "cell_type": "code",
   "execution_count": 8,
   "metadata": {},
   "outputs": [
    {
     "data": {
      "text/plain": [
       "[0, 2, 4, 6, 8]"
      ]
     },
     "execution_count": 8,
     "metadata": {},
     "output_type": "execute_result"
    }
   ],
   "source": [
    "list(range(0,10,2))"
   ]
  },
  {
   "cell_type": "code",
   "execution_count": 20,
   "metadata": {},
   "outputs": [
    {
     "name": "stdout",
     "output_type": "stream",
     "text": [
      "3\n",
      "6\n",
      "9\n",
      "12\n",
      "15\n",
      "18\n",
      "21\n",
      "24\n",
      "27\n",
      "30\n",
      "33\n",
      "36\n",
      "39\n",
      "42\n",
      "45\n",
      "48\n"
     ]
    }
   ],
   "source": [
    "result = [print(x) for x in range(1,51) if x%3 == 0]"
   ]
  },
  {
   "cell_type": "code",
   "execution_count": 38,
   "metadata": {},
   "outputs": [],
   "source": [
    "st = 'Print every word in this sentence that has an even number of letters'"
   ]
  },
  {
   "cell_type": "code",
   "execution_count": 39,
   "metadata": {},
   "outputs": [
    {
     "name": "stdout",
     "output_type": "stream",
     "text": [
      "word is even\n",
      "in is even\n",
      "this is even\n",
      "sentence is even\n",
      "that is even\n",
      "an is even\n",
      "even is even\n",
      "number is even\n",
      "of is even\n"
     ]
    }
   ],
   "source": [
    "for word in st.split():\n",
    "    if len(word)%2 == 0:\n",
    "        print(word +  ' is even')"
   ]
  },
  {
   "cell_type": "code",
   "execution_count": 44,
   "metadata": {},
   "outputs": [
    {
     "name": "stdout",
     "output_type": "stream",
     "text": [
      "1\n",
      "2\n",
      "Buzz\n",
      "4\n",
      "Fizz\n",
      "Buzz\n",
      "7\n",
      "8\n",
      "Buzz\n",
      "Fizz\n",
      "11\n",
      "Buzz\n",
      "13\n",
      "14\n",
      "FizzBuzz\n",
      "16\n",
      "17\n",
      "Buzz\n",
      "19\n",
      "Fizz\n",
      "Buzz\n",
      "22\n",
      "23\n",
      "Buzz\n",
      "Fizz\n",
      "26\n",
      "Buzz\n",
      "28\n",
      "29\n",
      "FizzBuzz\n",
      "31\n",
      "32\n",
      "Buzz\n",
      "34\n",
      "Fizz\n",
      "Buzz\n",
      "37\n",
      "38\n",
      "Buzz\n",
      "Fizz\n",
      "41\n",
      "Buzz\n",
      "43\n",
      "44\n",
      "FizzBuzz\n",
      "46\n",
      "47\n",
      "Buzz\n",
      "49\n",
      "Fizz\n",
      "Buzz\n",
      "52\n",
      "53\n",
      "Buzz\n",
      "Fizz\n",
      "56\n",
      "Buzz\n",
      "58\n",
      "59\n",
      "FizzBuzz\n",
      "61\n",
      "62\n",
      "Buzz\n",
      "64\n",
      "Fizz\n",
      "Buzz\n",
      "67\n",
      "68\n",
      "Buzz\n",
      "Fizz\n",
      "71\n",
      "Buzz\n",
      "73\n",
      "74\n",
      "FizzBuzz\n",
      "76\n",
      "77\n",
      "Buzz\n",
      "79\n",
      "Fizz\n",
      "Buzz\n",
      "82\n",
      "83\n",
      "Buzz\n",
      "Fizz\n",
      "86\n",
      "Buzz\n",
      "88\n",
      "89\n",
      "FizzBuzz\n",
      "91\n",
      "92\n",
      "Buzz\n",
      "94\n",
      "Fizz\n",
      "Buzz\n",
      "97\n",
      "98\n",
      "Buzz\n"
     ]
    }
   ],
   "source": [
    "for num in range(1,100):\n",
    "    if num%3 == 0 and num%5 == 0:\n",
    "        print('FizzBuzz')\n",
    "    elif num%3 == 0:\n",
    "        print('Buzz')\n",
    "    elif num%5 == 0:\n",
    "        print('Fizz')\n",
    "    else:\n",
    "        print(num)"
   ]
  },
  {
   "cell_type": "code",
   "execution_count": 45,
   "metadata": {},
   "outputs": [],
   "source": [
    "st = 'Create a list of the first letters of every word in this string'"
   ]
  },
  {
   "cell_type": "code",
   "execution_count": 46,
   "metadata": {},
   "outputs": [
    {
     "name": "stdout",
     "output_type": "stream",
     "text": [
      "C\n",
      "a\n",
      "l\n",
      "o\n",
      "t\n",
      "f\n",
      "l\n",
      "o\n",
      "e\n",
      "w\n",
      "i\n",
      "t\n",
      "s\n"
     ]
    }
   ],
   "source": [
    "for letter in st.split():\n",
    "    print(letter[0])"
   ]
  },
  {
   "cell_type": "code",
   "execution_count": 47,
   "metadata": {},
   "outputs": [
    {
     "data": {
      "text/plain": [
       "['C', 'a', 'l', 'o', 't', 'f', 'l', 'o', 'e', 'w', 'i', 't', 's']"
      ]
     },
     "execution_count": 47,
     "metadata": {},
     "output_type": "execute_result"
    }
   ],
   "source": [
    "[letter[0] for letter in st.split()]"
   ]
  },
  {
   "cell_type": "code",
   "execution_count": null,
   "metadata": {},
   "outputs": [],
   "source": []
  }
 ],
 "metadata": {
  "kernelspec": {
   "display_name": "Python 3",
   "language": "python",
   "name": "python3"
  },
  "language_info": {
   "codemirror_mode": {
    "name": "ipython",
    "version": 3
   },
   "file_extension": ".py",
   "mimetype": "text/x-python",
   "name": "python",
   "nbconvert_exporter": "python",
   "pygments_lexer": "ipython3",
   "version": "3.7.6"
  }
 },
 "nbformat": 4,
 "nbformat_minor": 4
}
